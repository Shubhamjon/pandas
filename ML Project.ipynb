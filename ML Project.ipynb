{
 "cells": [
  {
   "cell_type": "code",
   "execution_count": 1,
   "id": "0ca1ccae",
   "metadata": {},
   "outputs": [],
   "source": [
    "from flask import Flask, render_template, request"
   ]
  },
  {
   "cell_type": "code",
   "execution_count": 2,
   "id": "2db22ee9",
   "metadata": {},
   "outputs": [
    {
     "name": "stdout",
     "output_type": "stream",
     "text": [
      "Requirement already satisfied: flask-wtf in c:\\users\\shubham\\anaconda3\\lib\\site-packages (1.0.1)\n",
      "Requirement already satisfied: itsdangerous in c:\\users\\shubham\\anaconda3\\lib\\site-packages (from flask-wtf) (2.0.1)\n",
      "Requirement already satisfied: Flask in c:\\users\\shubham\\anaconda3\\lib\\site-packages (from flask-wtf) (1.1.2)\n",
      "Requirement already satisfied: WTForms in c:\\users\\shubham\\anaconda3\\lib\\site-packages (from flask-wtf) (3.0.1)\n",
      "Requirement already satisfied: Jinja2>=2.10.1 in c:\\users\\shubham\\anaconda3\\lib\\site-packages (from Flask->flask-wtf) (2.11.3)\n",
      "Requirement already satisfied: Werkzeug>=0.15 in c:\\users\\shubham\\anaconda3\\lib\\site-packages (from Flask->flask-wtf) (2.0.3)\n",
      "Requirement already satisfied: click>=5.1 in c:\\users\\shubham\\anaconda3\\lib\\site-packages (from Flask->flask-wtf) (8.0.4)\n",
      "Requirement already satisfied: colorama in c:\\users\\shubham\\anaconda3\\lib\\site-packages (from click>=5.1->Flask->flask-wtf) (0.4.4)\n",
      "Requirement already satisfied: MarkupSafe>=0.23 in c:\\users\\shubham\\anaconda3\\lib\\site-packages (from Jinja2>=2.10.1->Flask->flask-wtf) (2.0.1)\n"
     ]
    }
   ],
   "source": [
    "!pip install flask-wtf"
   ]
  },
  {
   "cell_type": "code",
   "execution_count": 3,
   "id": "b0840fe5",
   "metadata": {},
   "outputs": [],
   "source": [
    "from flask_wtf import FlaskForm\n",
    "from wtforms import IntegerField"
   ]
  },
  {
   "cell_type": "code",
   "execution_count": 4,
   "id": "caf87777",
   "metadata": {},
   "outputs": [],
   "source": [
    "import numpy as np\n",
    "import pandas as pd\n",
    "import joblib"
   ]
  },
  {
   "cell_type": "code",
   "execution_count": 5,
   "id": "cdc03a99",
   "metadata": {},
   "outputs": [],
   "source": [
    "from sklearn.naive_bayes import GaussianNB"
   ]
  },
  {
   "cell_type": "code",
   "execution_count": null,
   "id": "29eebb65",
   "metadata": {},
   "outputs": [
    {
     "name": "stdout",
     "output_type": "stream",
     "text": [
      " * Serving Flask app \"__main__\" (lazy loading)\n",
      " * Environment: production\n",
      "\u001b[31m   WARNING: This is a development server. Do not use it in a production deployment.\u001b[0m\n",
      "\u001b[2m   Use a production WSGI server instead.\u001b[0m\n",
      " * Debug mode: off\n"
     ]
    },
    {
     "name": "stderr",
     "output_type": "stream",
     "text": [
      " * Running on http://127.0.0.1:5000/ (Press CTRL+C to quit)\n",
      "127.0.0.1 - - [10/Jan/2023 12:27:41] \"GET / HTTP/1.1\" 200 -\n",
      "127.0.0.1 - - [10/Jan/2023 12:27:41] \"GET /favicon.ico HTTP/1.1\" 404 -\n",
      "127.0.0.1 - - [10/Jan/2023 12:27:43] \"GET / HTTP/1.1\" 200 -\n",
      "127.0.0.1 - - [10/Jan/2023 12:27:46] \"GET /train HTTP/1.1\" 200 -\n",
      "127.0.0.1 - - [10/Jan/2023 12:27:52] \"GET /test HTTP/1.1\" 200 -\n",
      "C:\\Users\\Shubham\\anaconda3\\lib\\site-packages\\sklearn\\base.py:493: FutureWarning: The feature names should match those that were passed during fit. Starting version 1.2, an error will be raised.\n",
      "Feature names unseen at fit time:\n",
      "- Ambient Temperature\n",
      "- Calibration\n",
      "- Detected By\n",
      "- H2S Content\n",
      "- Humidity\n",
      "- ...\n",
      "Feature names seen at fit time, yet now missing:\n",
      "- Ambient Temperature( deg C)\n",
      "- Calibration(days)\n",
      "- H2S Content(ppm)\n",
      "- Humidity(%)\n",
      "- Unwanted substance deposition(0/1)\n",
      "- ...\n",
      "\n",
      "  warnings.warn(message, FutureWarning)\n",
      "127.0.0.1 - - [10/Jan/2023 12:28:07] \"POST /test HTTP/1.1\" 200 -\n"
     ]
    }
   ],
   "source": [
    "app = Flask(__name__)\n",
    "\n",
    "app.config['SECRET_KEY'] = 'asdfasdflasdfjsdlfkjslkdj'\n",
    "\n",
    "class FlaskAlarm(FlaskForm):\n",
    "    Ambient_Temperature = IntegerField(\"Ambient Temperature\")\n",
    "    Calibration = IntegerField(\"Calibration\")\n",
    "    Unwanted_Substance_Deposition = IntegerField(\"Unwanted Substance Deposition\")\n",
    "    Humidity = IntegerField(\"Humidity\")\n",
    "    H2S_Content = IntegerField(\"H2S Content\")\n",
    "    detected_by = IntegerField(\"Detected By\")\n",
    "\n",
    "\n",
    "@app.route('/')\n",
    "def index():\n",
    "    return render_template('index.html')\n",
    "\n",
    "@app.route('/train')\n",
    "def train():\n",
    "    df_train = pd.read_excel(\"False Alarm Cases.xlsx\")\n",
    "    df_train = df_train.iloc[:, 1:8]\n",
    "    x = df_train.iloc[:,0:6]\n",
    "    y = df_train['Spuriosity Index(0/1)']\n",
    "    model = GaussianNB()\n",
    "    model.fit(x,y)\n",
    "    filename = 'ml_model.pkl'\n",
    "    joblib.dump(model, filename)\n",
    "    return render_template('train.html', name=filename)\n",
    "\n",
    "@app.route('/test', methods=['GET', 'POST'])\n",
    "def test():\n",
    "    form = FlaskAlarm()\n",
    "    if request.method == \"POST\":\n",
    "        filename = 'ml_model.pkl'\n",
    "        clf = joblib.load(filename) # Load ml mode from joblib\n",
    "\n",
    "        a = form.data['Ambient_Temperature']\n",
    "        b = form.data['Calibration']\n",
    "        c = form.data['Unwanted_Substance_Deposition']\n",
    "        d = form.data['Humidity']\n",
    "        e = form.data['H2S_Content']\n",
    "        f = form.data['detected_by']\n",
    "        cols = [a,b,c,d,e,f]\n",
    "        array = np.array(cols)\n",
    "        array = array.reshape(1,6)\n",
    "        df_test = pd.DataFrame(array, columns=['Ambient Temperature', 'Calibration', 'Unwanted Substance Deposition', 'Humidity', 'H2S Content', 'Detected By'])\n",
    "        \n",
    "        ypred = clf.predict(df_test)\n",
    "        if ypred == 1:\n",
    "            result = \"Danger gas\"\n",
    "        else:\n",
    "            result = \"Not a danger gas\"\n",
    "        return \"Prediction is %s\"%(result)\n",
    "    else:\n",
    "        return render_template('test.html', form = form)\n",
    "\n",
    "@app.route('/report')\n",
    "def report():\n",
    "    return render_template('report.html')\n",
    "\n",
    "@app.route('/help')\n",
    "def help():\n",
    "    return render_template('help.html')\n",
    "\n",
    "if __name__ == '__main__':\n",
    "    app.run()"
   ]
  },
  {
   "cell_type": "raw",
   "id": "e4f37a8e",
   "metadata": {},
   "source": [
    "- Report\n",
    "    - Number of time model is trained\n",
    "    -------------------------------------------\n",
    "    datetime \n",
    "    -------------------------------------------\n",
    "    - Number of time prediction happend\n",
    "    -------------------------------------------\n",
    "    col1 | col2 | col3 | pred\n",
    "    -------------------------------------------\n",
    "- Help\n",
    "    - how to setup application\n",
    "    - how to use or run it"
   ]
  },
  {
   
   ]
  },
  {
   "cell_type": "code",
   "execution_count": null,
   "id": "76b137b3",
   "metadata": {},
   "outputs": [],
   "source": []
  }
 ],
 "metadata": {
  "kernelspec": {
   "display_name": "Python 3 (ipykernel)",
   "language": "python",
   "name": "python3"
  },
  "language_info": {
   "codemirror_mode": {
    "name": "ipython",
    "version": 3
   },
   "file_extension": ".py",
   "mimetype": "text/x-python",
   "name": "python",
   "nbconvert_exporter": "python",
   "pygments_lexer": "ipython3",
   "version": "3.9.12"
  }
 },
 "nbformat": 4,
 "nbformat_minor": 5
}
